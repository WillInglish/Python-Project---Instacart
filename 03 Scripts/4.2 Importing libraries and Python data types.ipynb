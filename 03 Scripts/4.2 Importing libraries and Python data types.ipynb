{
 "cells": [
  {
   "cell_type": "markdown",
   "id": "0b43e659-f6ec-420b-b02d-c788a9844c1d",
   "metadata": {},
   "source": [
    "# 01. Importing libraries"
   ]
  },
  {
   "cell_type": "code",
   "execution_count": null,
   "id": "a9abd249-a243-461f-981b-2a9a9f97830c",
   "metadata": {},
   "outputs": [],
   "source": [
    "#Import libraries\n",
    "import pandas as pd\n",
    "import numpy as np\n",
    "import os"
   ]
  },
  {
   "cell_type": "markdown",
   "id": "6bfcb7db-5813-4892-b86c-c943da1c3bc7",
   "metadata": {},
   "source": [
    "# 02. Data types"
   ]
  },
  {
   "cell_type": "code",
   "execution_count": 11,
   "id": "3fb19865-1ca2-4314-8d0f-2e6bdf775b5b",
   "metadata": {},
   "outputs": [
    {
     "data": {
      "text/plain": [
       "100"
      ]
     },
     "execution_count": 11,
     "metadata": {},
     "output_type": "execute_result"
    }
   ],
   "source": [
    "#Integers\n",
    "w=150\n",
    "x=50\n",
    "y=50\n",
    "z=50\n",
    "l=1\n",
    "k=99\n",
    "\n",
    "x+y"
   ]
  },
  {
   "cell_type": "code",
   "execution_count": 12,
   "id": "f24b092f-4bbf-4ea2-a730-89d3efbf7606",
   "metadata": {},
   "outputs": [
    {
     "data": {
      "text/plain": [
       "100"
      ]
     },
     "execution_count": 12,
     "metadata": {},
     "output_type": "execute_result"
    }
   ],
   "source": [
    "w-z"
   ]
  },
  {
   "cell_type": "code",
   "execution_count": 13,
   "id": "24f6aeb3-44f7-4e2f-964b-319d23de75b8",
   "metadata": {},
   "outputs": [
    {
     "data": {
      "text/plain": [
       "100"
      ]
     },
     "execution_count": 13,
     "metadata": {},
     "output_type": "execute_result"
    }
   ],
   "source": [
    "l+k"
   ]
  },
  {
   "cell_type": "code",
   "execution_count": 15,
   "id": "2b40aa2f-360e-466b-aaf5-b2e0dfa8a8c0",
   "metadata": {},
   "outputs": [
    {
     "data": {
      "text/plain": [
       "2.8771929824561404"
      ]
     },
     "execution_count": 15,
     "metadata": {},
     "output_type": "execute_result"
    }
   ],
   "source": [
    "#floats\n",
    "flt1 = 3.28\n",
    "flt2 = 1.14\n",
    "\n",
    "flt1/flt2"
   ]
  },
  {
   "cell_type": "code",
   "execution_count": 18,
   "id": "6685b0f9-2a30-48b8-a5eb-a19fffb07231",
   "metadata": {},
   "outputs": [
    {
     "data": {
      "text/plain": [
       "'Is this the correct way to concatenate seperate strings?'"
      ]
     },
     "execution_count": 18,
     "metadata": {},
     "output_type": "execute_result"
    }
   ],
   "source": [
    "#strings\n",
    "conc1 = \"Is this\"\n",
    "conc2 = \" the correct way \"\n",
    "conc3 = \"to concatenate \"\n",
    "conc4 = \"seperate strings?\"\n",
    "\n",
    "conc1 + conc2 + conc3 + conc4"
   ]
  },
  {
   "cell_type": "code",
   "execution_count": null,
   "id": "57d52c14-cf06-433f-9cc2-f930c03af6bd",
   "metadata": {},
   "outputs": [],
   "source": []
  }
 ],
 "metadata": {
  "kernelspec": {
   "display_name": "Python 3 (ipykernel)",
   "language": "python",
   "name": "python3"
  },
  "language_info": {
   "codemirror_mode": {
    "name": "ipython",
    "version": 3
   },
   "file_extension": ".py",
   "mimetype": "text/x-python",
   "name": "python",
   "nbconvert_exporter": "python",
   "pygments_lexer": "ipython3",
   "version": "3.10.9"
  }
 },
 "nbformat": 4,
 "nbformat_minor": 5
}
